{
 "cells": [
  {
   "cell_type": "code",
   "execution_count": 1,
   "metadata": {},
   "outputs": [],
   "source": [
    "import os\n",
    "os.getcwd()"
   ]
  },
  {
   "cell_type": "code",
   "execution_count": 2,
   "metadata": {},
   "outputs": [
    {
     "data": {
      "text/html": [
       "<div>\n",
       "<style scoped>\n",
       "    .dataframe tbody tr th:only-of-type {\n",
       "        vertical-align: middle;\n",
       "    }\n",
       "\n",
       "    .dataframe tbody tr th {\n",
       "        vertical-align: top;\n",
       "    }\n",
       "\n",
       "    .dataframe thead th {\n",
       "        text-align: right;\n",
       "    }\n",
       "</style>\n",
       "<table border=\"1\" class=\"dataframe\">\n",
       "  <thead>\n",
       "    <tr style=\"text-align: right;\">\n",
       "      <th></th>\n",
       "      <th>male population</th>\n",
       "      <th>male smoke percentage</th>\n",
       "      <th>female population</th>\n",
       "      <th>female smoke percentage</th>\n",
       "    </tr>\n",
       "    <tr>\n",
       "      <th>class</th>\n",
       "      <th></th>\n",
       "      <th></th>\n",
       "      <th></th>\n",
       "      <th></th>\n",
       "    </tr>\n",
       "  </thead>\n",
       "  <tbody>\n",
       "    <tr>\n",
       "      <th>Education level</th>\n",
       "      <td>NaN</td>\n",
       "      <td>NaN</td>\n",
       "      <td>NaN</td>\n",
       "      <td>NaN</td>\n",
       "    </tr>\n",
       "    <tr>\n",
       "      <th>elementary school and below</th>\n",
       "      <td>1596.0</td>\n",
       "      <td>25.3</td>\n",
       "      <td>2781.0</td>\n",
       "      <td>1.7</td>\n",
       "    </tr>\n",
       "    <tr>\n",
       "      <th>junior high</th>\n",
       "      <td>1264.0</td>\n",
       "      <td>49.6</td>\n",
       "      <td>1498.0</td>\n",
       "      <td>10.6</td>\n",
       "    </tr>\n",
       "    <tr>\n",
       "      <th>senior high</th>\n",
       "      <td>3136.0</td>\n",
       "      <td>28.7</td>\n",
       "      <td>3734.0</td>\n",
       "      <td>6.5</td>\n",
       "    </tr>\n",
       "    <tr>\n",
       "      <th>university</th>\n",
       "      <td>2881.0</td>\n",
       "      <td>11.7</td>\n",
       "      <td>3249.0</td>\n",
       "      <td>1.0</td>\n",
       "    </tr>\n",
       "    <tr>\n",
       "      <th>graduate school and above</th>\n",
       "      <td>964.0</td>\n",
       "      <td>4.6</td>\n",
       "      <td>659.0</td>\n",
       "      <td>0.0</td>\n",
       "    </tr>\n",
       "    <tr>\n",
       "      <th>Average monthly income</th>\n",
       "      <td>NaN</td>\n",
       "      <td>NaN</td>\n",
       "      <td>NaN</td>\n",
       "      <td>NaN</td>\n",
       "    </tr>\n",
       "    <tr>\n",
       "      <th>20000 and below</th>\n",
       "      <td>3737.0</td>\n",
       "      <td>20.2</td>\n",
       "      <td>6382.0</td>\n",
       "      <td>2.5</td>\n",
       "    </tr>\n",
       "    <tr>\n",
       "      <th>20001-40000</th>\n",
       "      <td>3431.0</td>\n",
       "      <td>33.9</td>\n",
       "      <td>4278.0</td>\n",
       "      <td>6.8</td>\n",
       "    </tr>\n",
       "    <tr>\n",
       "      <th>40001 and above</th>\n",
       "      <td>3615.0</td>\n",
       "      <td>35.6</td>\n",
       "      <td>2227.0</td>\n",
       "      <td>5.5</td>\n",
       "    </tr>\n",
       "    <tr>\n",
       "      <th>Working environment</th>\n",
       "      <td>NaN</td>\n",
       "      <td>NaN</td>\n",
       "      <td>NaN</td>\n",
       "      <td>NaN</td>\n",
       "    </tr>\n",
       "    <tr>\n",
       "      <th>indoor</th>\n",
       "      <td>3739.0</td>\n",
       "      <td>32.4</td>\n",
       "      <td>4732.0</td>\n",
       "      <td>3.6</td>\n",
       "    </tr>\n",
       "    <tr>\n",
       "      <th>outdoor</th>\n",
       "      <td>1773.0</td>\n",
       "      <td>40.9</td>\n",
       "      <td>635.0</td>\n",
       "      <td>9.0</td>\n",
       "    </tr>\n",
       "    <tr>\n",
       "      <th>unemployed</th>\n",
       "      <td>1595.0</td>\n",
       "      <td>29.5</td>\n",
       "      <td>4114.0</td>\n",
       "      <td>4.7</td>\n",
       "    </tr>\n",
       "  </tbody>\n",
       "</table>\n",
       "</div>"
      ],
      "text/plain": [
       "                             male population  male smoke percentage  \\\n",
       "class                                                                 \n",
       "Education level                          NaN                    NaN   \n",
       "elementary school and below           1596.0                   25.3   \n",
       "junior high                           1264.0                   49.6   \n",
       "senior high                           3136.0                   28.7   \n",
       "university                            2881.0                   11.7   \n",
       "graduate school and above              964.0                    4.6   \n",
       "Average monthly income                   NaN                    NaN   \n",
       "20000 and below                       3737.0                   20.2   \n",
       "20001-40000                           3431.0                   33.9   \n",
       "40001 and above                       3615.0                   35.6   \n",
       "Working environment                      NaN                    NaN   \n",
       "indoor                                3739.0                   32.4   \n",
       "outdoor                               1773.0                   40.9   \n",
       "unemployed                            1595.0                   29.5   \n",
       "\n",
       "                             female population  female smoke percentage  \n",
       "class                                                                    \n",
       "Education level                            NaN                      NaN  \n",
       "elementary school and below             2781.0                      1.7  \n",
       "junior high                             1498.0                     10.6  \n",
       "senior high                             3734.0                      6.5  \n",
       "university                              3249.0                      1.0  \n",
       "graduate school and above                659.0                      0.0  \n",
       "Average monthly income                     NaN                      NaN  \n",
       "20000 and below                         6382.0                      2.5  \n",
       "20001-40000                             4278.0                      6.8  \n",
       "40001 and above                         2227.0                      5.5  \n",
       "Working environment                        NaN                      NaN  \n",
       "indoor                                  4732.0                      3.6  \n",
       "outdoor                                  635.0                      9.0  \n",
       "unemployed                              4114.0                      4.7  "
      ]
     },
     "execution_count": 2,
     "metadata": {},
     "output_type": "execute_result"
    }
   ],
   "source": [
    "import numpy as np\n",
    "import matplotlib.pyplot as plt\n",
    "import pandas as pd\n",
    "import os\n",
    "\n",
    "os.getcwd()\n",
    "df_data = pd.read_csv(\"hw1_data.csv\",index_col = 0)\n",
    "\n",
    "df_data\n"
   ]
  },
  {
   "cell_type": "code",
   "execution_count": 3,
   "metadata": {},
   "outputs": [
    {
     "data": {
      "text/html": [
       "<div>\n",
       "<style scoped>\n",
       "    .dataframe tbody tr th:only-of-type {\n",
       "        vertical-align: middle;\n",
       "    }\n",
       "\n",
       "    .dataframe tbody tr th {\n",
       "        vertical-align: top;\n",
       "    }\n",
       "\n",
       "    .dataframe thead th {\n",
       "        text-align: right;\n",
       "    }\n",
       "</style>\n",
       "<table border=\"1\" class=\"dataframe\">\n",
       "  <thead>\n",
       "    <tr style=\"text-align: right;\">\n",
       "      <th></th>\n",
       "      <th>male population</th>\n",
       "      <th>male smoke percentage</th>\n",
       "      <th>female population</th>\n",
       "      <th>female smoke percentage</th>\n",
       "    </tr>\n",
       "    <tr>\n",
       "      <th>class</th>\n",
       "      <th></th>\n",
       "      <th></th>\n",
       "      <th></th>\n",
       "      <th></th>\n",
       "    </tr>\n",
       "  </thead>\n",
       "  <tbody>\n",
       "    <tr>\n",
       "      <th>elementary school and below</th>\n",
       "      <td>1596.0</td>\n",
       "      <td>25.3</td>\n",
       "      <td>2781.0</td>\n",
       "      <td>1.7</td>\n",
       "    </tr>\n",
       "    <tr>\n",
       "      <th>junior high</th>\n",
       "      <td>1264.0</td>\n",
       "      <td>49.6</td>\n",
       "      <td>1498.0</td>\n",
       "      <td>10.6</td>\n",
       "    </tr>\n",
       "    <tr>\n",
       "      <th>senior high</th>\n",
       "      <td>3136.0</td>\n",
       "      <td>28.7</td>\n",
       "      <td>3734.0</td>\n",
       "      <td>6.5</td>\n",
       "    </tr>\n",
       "    <tr>\n",
       "      <th>university</th>\n",
       "      <td>2881.0</td>\n",
       "      <td>11.7</td>\n",
       "      <td>3249.0</td>\n",
       "      <td>1.0</td>\n",
       "    </tr>\n",
       "    <tr>\n",
       "      <th>graduate school and above</th>\n",
       "      <td>964.0</td>\n",
       "      <td>4.6</td>\n",
       "      <td>659.0</td>\n",
       "      <td>0.0</td>\n",
       "    </tr>\n",
       "    <tr>\n",
       "      <th>20000 and below</th>\n",
       "      <td>3737.0</td>\n",
       "      <td>20.2</td>\n",
       "      <td>6382.0</td>\n",
       "      <td>2.5</td>\n",
       "    </tr>\n",
       "    <tr>\n",
       "      <th>20001-40000</th>\n",
       "      <td>3431.0</td>\n",
       "      <td>33.9</td>\n",
       "      <td>4278.0</td>\n",
       "      <td>6.8</td>\n",
       "    </tr>\n",
       "    <tr>\n",
       "      <th>40001 and above</th>\n",
       "      <td>3615.0</td>\n",
       "      <td>35.6</td>\n",
       "      <td>2227.0</td>\n",
       "      <td>5.5</td>\n",
       "    </tr>\n",
       "    <tr>\n",
       "      <th>indoor</th>\n",
       "      <td>3739.0</td>\n",
       "      <td>32.4</td>\n",
       "      <td>4732.0</td>\n",
       "      <td>3.6</td>\n",
       "    </tr>\n",
       "    <tr>\n",
       "      <th>outdoor</th>\n",
       "      <td>1773.0</td>\n",
       "      <td>40.9</td>\n",
       "      <td>635.0</td>\n",
       "      <td>9.0</td>\n",
       "    </tr>\n",
       "    <tr>\n",
       "      <th>unemployed</th>\n",
       "      <td>1595.0</td>\n",
       "      <td>29.5</td>\n",
       "      <td>4114.0</td>\n",
       "      <td>4.7</td>\n",
       "    </tr>\n",
       "  </tbody>\n",
       "</table>\n",
       "</div>"
      ],
      "text/plain": [
       "                             male population  male smoke percentage  \\\n",
       "class                                                                 \n",
       "elementary school and below           1596.0                   25.3   \n",
       "junior high                           1264.0                   49.6   \n",
       "senior high                           3136.0                   28.7   \n",
       "university                            2881.0                   11.7   \n",
       "graduate school and above              964.0                    4.6   \n",
       "20000 and below                       3737.0                   20.2   \n",
       "20001-40000                           3431.0                   33.9   \n",
       "40001 and above                       3615.0                   35.6   \n",
       "indoor                                3739.0                   32.4   \n",
       "outdoor                               1773.0                   40.9   \n",
       "unemployed                            1595.0                   29.5   \n",
       "\n",
       "                             female population  female smoke percentage  \n",
       "class                                                                    \n",
       "elementary school and below             2781.0                      1.7  \n",
       "junior high                             1498.0                     10.6  \n",
       "senior high                             3734.0                      6.5  \n",
       "university                              3249.0                      1.0  \n",
       "graduate school and above                659.0                      0.0  \n",
       "20000 and below                         6382.0                      2.5  \n",
       "20001-40000                             4278.0                      6.8  \n",
       "40001 and above                         2227.0                      5.5  \n",
       "indoor                                  4732.0                      3.6  \n",
       "outdoor                                  635.0                      9.0  \n",
       "unemployed                              4114.0                      4.7  "
      ]
     },
     "execution_count": 3,
     "metadata": {},
     "output_type": "execute_result"
    }
   ],
   "source": [
    "df_clean = df_data.dropna()\n",
    "df_clean"
   ]
  },
  {
   "cell_type": "code",
   "execution_count": 4,
   "metadata": {},
   "outputs": [
    {
     "data": {
      "text/plain": [
       "451.065"
      ]
     },
     "execution_count": 4,
     "metadata": {},
     "output_type": "execute_result"
    }
   ],
   "source": [
    "element_smoke_pop =(df_data.iloc[1,0]*df_data.iloc[1,1]+df_data.iloc[1,2]*df_data.iloc[1,3])/100\n",
    "\n",
    "element_smoke_pop"
   ]
  },
  {
   "cell_type": "code",
   "execution_count": 5,
   "metadata": {},
   "outputs": [
    {
     "data": {
      "text/plain": [
       "4377.0"
      ]
     },
     "execution_count": 5,
     "metadata": {},
     "output_type": "execute_result"
    }
   ],
   "source": [
    "element_total_pop = df_data.iloc[1,0]+df_data.iloc[1,2]\n",
    "element_total_pop"
   ]
  },
  {
   "cell_type": "code",
   "execution_count": 6,
   "metadata": {},
   "outputs": [
    {
     "data": {
      "text/plain": [
       "0.10305346127484578"
      ]
     },
     "execution_count": 6,
     "metadata": {},
     "output_type": "execute_result"
    }
   ],
   "source": [
    "element_total_percentage = element_smoke_pop /element_total_pop\n",
    "element_total_percentage"
   ]
  },
  {
   "cell_type": "code",
   "execution_count": 7,
   "metadata": {},
   "outputs": [
    {
     "data": {
      "text/plain": [
       "class\n",
       "Education level                10.305346\n",
       "elementary school and below    10.305346\n",
       "junior high                    10.305346\n",
       "senior high                    10.305346\n",
       "university                     10.305346\n",
       "graduate school and above      10.305346\n",
       "Average monthly income         10.305346\n",
       "20000 and below                10.305346\n",
       "20001-40000                    10.305346\n",
       "40001 and above                10.305346\n",
       "Working environment            10.305346\n",
       "indoor                         10.305346\n",
       "outdoor                        10.305346\n",
       "unemployed                     10.305346\n",
       "Name: smoke_percentage, dtype: float64"
      ]
     },
     "execution_count": 7,
     "metadata": {},
     "output_type": "execute_result"
    }
   ],
   "source": [
    "df_data['smoke_percentage'] = ((df_data.iloc[1,0]*df_data.iloc[1,1]+df_data.iloc[1,2]*df_data.iloc[1,3]))/(df_data.iloc[1,0]+df_data.iloc[1,2])\n",
    "df_data['smoke_percentage'] "
   ]
  },
  {
   "cell_type": "code",
   "execution_count": 8,
   "metadata": {},
   "outputs": [
    {
     "data": {
      "text/plain": [
       "class\n",
       "Education level                      NaN\n",
       "elementary school and below    10.305346\n",
       "junior high                    28.447936\n",
       "senior high                    16.633799\n",
       "university                      6.028825\n",
       "graduate school and above       2.732224\n",
       "Average monthly income               NaN\n",
       "20000 and below                 9.036703\n",
       "20001-40000                    18.861240\n",
       "40001 and above                24.125727\n",
       "Working environment                  NaN\n",
       "indoor                         16.311982\n",
       "outdoor                        32.487832\n",
       "unemployed                     11.628709\n",
       "Name: smoke_percentage, dtype: float64"
      ]
     },
     "execution_count": 8,
     "metadata": {},
     "output_type": "execute_result"
    }
   ],
   "source": [
    "df_data['smoke_percentage'] = ((df_data.iloc[:,0]*df_data.iloc[:,1]+df_data.iloc[:,2]*df_data.iloc[:,3]))/(df_data.iloc[:,0]+df_data.iloc[:,2])\n",
    "df_data['smoke_percentage'] "
   ]
  },
  {
   "cell_type": "code",
   "execution_count": 9,
   "metadata": {},
   "outputs": [
    {
     "data": {
      "text/html": [
       "<div>\n",
       "<style scoped>\n",
       "    .dataframe tbody tr th:only-of-type {\n",
       "        vertical-align: middle;\n",
       "    }\n",
       "\n",
       "    .dataframe tbody tr th {\n",
       "        vertical-align: top;\n",
       "    }\n",
       "\n",
       "    .dataframe thead th {\n",
       "        text-align: right;\n",
       "    }\n",
       "</style>\n",
       "<table border=\"1\" class=\"dataframe\">\n",
       "  <thead>\n",
       "    <tr style=\"text-align: right;\">\n",
       "      <th></th>\n",
       "      <th>male population</th>\n",
       "      <th>male smoke percentage</th>\n",
       "      <th>female population</th>\n",
       "      <th>female smoke percentage</th>\n",
       "      <th>smoke_percentage</th>\n",
       "    </tr>\n",
       "    <tr>\n",
       "      <th>class</th>\n",
       "      <th></th>\n",
       "      <th></th>\n",
       "      <th></th>\n",
       "      <th></th>\n",
       "      <th></th>\n",
       "    </tr>\n",
       "  </thead>\n",
       "  <tbody>\n",
       "    <tr>\n",
       "      <th>Education level</th>\n",
       "      <td>NaN</td>\n",
       "      <td>NaN</td>\n",
       "      <td>NaN</td>\n",
       "      <td>NaN</td>\n",
       "      <td>NaN</td>\n",
       "    </tr>\n",
       "    <tr>\n",
       "      <th>elementary school and below</th>\n",
       "      <td>1596.0</td>\n",
       "      <td>25.3</td>\n",
       "      <td>2781.0</td>\n",
       "      <td>1.7</td>\n",
       "      <td>10.305346</td>\n",
       "    </tr>\n",
       "    <tr>\n",
       "      <th>junior high</th>\n",
       "      <td>1264.0</td>\n",
       "      <td>49.6</td>\n",
       "      <td>1498.0</td>\n",
       "      <td>10.6</td>\n",
       "      <td>28.447936</td>\n",
       "    </tr>\n",
       "    <tr>\n",
       "      <th>senior high</th>\n",
       "      <td>3136.0</td>\n",
       "      <td>28.7</td>\n",
       "      <td>3734.0</td>\n",
       "      <td>6.5</td>\n",
       "      <td>16.633799</td>\n",
       "    </tr>\n",
       "    <tr>\n",
       "      <th>university</th>\n",
       "      <td>2881.0</td>\n",
       "      <td>11.7</td>\n",
       "      <td>3249.0</td>\n",
       "      <td>1.0</td>\n",
       "      <td>6.028825</td>\n",
       "    </tr>\n",
       "    <tr>\n",
       "      <th>graduate school and above</th>\n",
       "      <td>964.0</td>\n",
       "      <td>4.6</td>\n",
       "      <td>659.0</td>\n",
       "      <td>0.0</td>\n",
       "      <td>2.732224</td>\n",
       "    </tr>\n",
       "    <tr>\n",
       "      <th>Average monthly income</th>\n",
       "      <td>NaN</td>\n",
       "      <td>NaN</td>\n",
       "      <td>NaN</td>\n",
       "      <td>NaN</td>\n",
       "      <td>NaN</td>\n",
       "    </tr>\n",
       "    <tr>\n",
       "      <th>20000 and below</th>\n",
       "      <td>3737.0</td>\n",
       "      <td>20.2</td>\n",
       "      <td>6382.0</td>\n",
       "      <td>2.5</td>\n",
       "      <td>9.036703</td>\n",
       "    </tr>\n",
       "    <tr>\n",
       "      <th>20001-40000</th>\n",
       "      <td>3431.0</td>\n",
       "      <td>33.9</td>\n",
       "      <td>4278.0</td>\n",
       "      <td>6.8</td>\n",
       "      <td>18.861240</td>\n",
       "    </tr>\n",
       "    <tr>\n",
       "      <th>40001 and above</th>\n",
       "      <td>3615.0</td>\n",
       "      <td>35.6</td>\n",
       "      <td>2227.0</td>\n",
       "      <td>5.5</td>\n",
       "      <td>24.125727</td>\n",
       "    </tr>\n",
       "    <tr>\n",
       "      <th>Working environment</th>\n",
       "      <td>NaN</td>\n",
       "      <td>NaN</td>\n",
       "      <td>NaN</td>\n",
       "      <td>NaN</td>\n",
       "      <td>NaN</td>\n",
       "    </tr>\n",
       "    <tr>\n",
       "      <th>indoor</th>\n",
       "      <td>3739.0</td>\n",
       "      <td>32.4</td>\n",
       "      <td>4732.0</td>\n",
       "      <td>3.6</td>\n",
       "      <td>16.311982</td>\n",
       "    </tr>\n",
       "    <tr>\n",
       "      <th>outdoor</th>\n",
       "      <td>1773.0</td>\n",
       "      <td>40.9</td>\n",
       "      <td>635.0</td>\n",
       "      <td>9.0</td>\n",
       "      <td>32.487832</td>\n",
       "    </tr>\n",
       "    <tr>\n",
       "      <th>unemployed</th>\n",
       "      <td>1595.0</td>\n",
       "      <td>29.5</td>\n",
       "      <td>4114.0</td>\n",
       "      <td>4.7</td>\n",
       "      <td>11.628709</td>\n",
       "    </tr>\n",
       "  </tbody>\n",
       "</table>\n",
       "</div>"
      ],
      "text/plain": [
       "                             male population  male smoke percentage  \\\n",
       "class                                                                 \n",
       "Education level                          NaN                    NaN   \n",
       "elementary school and below           1596.0                   25.3   \n",
       "junior high                           1264.0                   49.6   \n",
       "senior high                           3136.0                   28.7   \n",
       "university                            2881.0                   11.7   \n",
       "graduate school and above              964.0                    4.6   \n",
       "Average monthly income                   NaN                    NaN   \n",
       "20000 and below                       3737.0                   20.2   \n",
       "20001-40000                           3431.0                   33.9   \n",
       "40001 and above                       3615.0                   35.6   \n",
       "Working environment                      NaN                    NaN   \n",
       "indoor                                3739.0                   32.4   \n",
       "outdoor                               1773.0                   40.9   \n",
       "unemployed                            1595.0                   29.5   \n",
       "\n",
       "                             female population  female smoke percentage  \\\n",
       "class                                                                     \n",
       "Education level                            NaN                      NaN   \n",
       "elementary school and below             2781.0                      1.7   \n",
       "junior high                             1498.0                     10.6   \n",
       "senior high                             3734.0                      6.5   \n",
       "university                              3249.0                      1.0   \n",
       "graduate school and above                659.0                      0.0   \n",
       "Average monthly income                     NaN                      NaN   \n",
       "20000 and below                         6382.0                      2.5   \n",
       "20001-40000                             4278.0                      6.8   \n",
       "40001 and above                         2227.0                      5.5   \n",
       "Working environment                        NaN                      NaN   \n",
       "indoor                                  4732.0                      3.6   \n",
       "outdoor                                  635.0                      9.0   \n",
       "unemployed                              4114.0                      4.7   \n",
       "\n",
       "                             smoke_percentage  \n",
       "class                                          \n",
       "Education level                           NaN  \n",
       "elementary school and below         10.305346  \n",
       "junior high                         28.447936  \n",
       "senior high                         16.633799  \n",
       "university                           6.028825  \n",
       "graduate school and above            2.732224  \n",
       "Average monthly income                    NaN  \n",
       "20000 and below                      9.036703  \n",
       "20001-40000                         18.861240  \n",
       "40001 and above                     24.125727  \n",
       "Working environment                       NaN  \n",
       "indoor                              16.311982  \n",
       "outdoor                             32.487832  \n",
       "unemployed                          11.628709  "
      ]
     },
     "execution_count": 9,
     "metadata": {},
     "output_type": "execute_result"
    }
   ],
   "source": [
    "df_data"
   ]
  },
  {
   "cell_type": "code",
   "execution_count": 10,
   "metadata": {},
   "outputs": [
    {
     "data": {
      "text/plain": [
       "10.305346127484578"
      ]
     },
     "execution_count": 10,
     "metadata": {},
     "output_type": "execute_result"
    }
   ],
   "source": [
    "element_man_percent = df_data.loc['elementary school and below','male smoke percentage']\n",
    "element_man_percent\n",
    "element_woman_percent = df_data.loc['elementary school and below','female smoke percentage']\n",
    "element_woman_percent\n",
    "element_total_percent = df_data.loc['elementary school and below','smoke_percentage']\n",
    "element_total_percent"
   ]
  },
  {
   "cell_type": "code",
   "execution_count": 11,
   "metadata": {},
   "outputs": [
    {
     "data": {
      "text/plain": [
       "28.447936278059377"
      ]
     },
     "execution_count": 11,
     "metadata": {},
     "output_type": "execute_result"
    }
   ],
   "source": [
    "junior_high_man_percent = df_data.loc['junior high','male smoke percentage']\n",
    "junior_high_man_percent\n",
    "junior_high_woman_percent = df_data.loc['junior high','female smoke percentage']\n",
    "junior_high_woman_percent\n",
    "junior_high_total_percent = df_data.loc['junior high','smoke_percentage']\n",
    "junior_high_total_percent"
   ]
  },
  {
   "cell_type": "code",
   "execution_count": 12,
   "metadata": {},
   "outputs": [
    {
     "data": {
      "text/plain": [
       "16.633799126637555"
      ]
     },
     "execution_count": 12,
     "metadata": {},
     "output_type": "execute_result"
    }
   ],
   "source": [
    "senior_high_man_percent = df_data.loc['senior high','male smoke percentage']\n",
    "senior_high_man_percent\n",
    "senior_high_woman_percent = df_data.loc['senior high','female smoke percentage']\n",
    "senior_high_woman_percent\n",
    "senior_high_total_percent = df_data.loc['senior high','smoke_percentage']\n",
    "senior_high_total_percent"
   ]
  },
  {
   "cell_type": "code",
   "execution_count": 13,
   "metadata": {},
   "outputs": [
    {
     "data": {
      "text/plain": [
       "6.028825448613376"
      ]
     },
     "execution_count": 13,
     "metadata": {},
     "output_type": "execute_result"
    }
   ],
   "source": [
    "university_man_percent = df_data.loc['university','male smoke percentage']\n",
    "university_man_percent\n",
    "university_woman_percent = df_data.loc['university','female smoke percentage']\n",
    "university_woman_percent\n",
    "university_total_percent = df_data.loc['university','smoke_percentage']\n",
    "university_total_percent"
   ]
  },
  {
   "cell_type": "code",
   "execution_count": 14,
   "metadata": {},
   "outputs": [
    {
     "data": {
      "text/plain": [
       "2.732224276032039"
      ]
     },
     "execution_count": 14,
     "metadata": {},
     "output_type": "execute_result"
    }
   ],
   "source": [
    "graduate_man_percent = df_data.loc['graduate school and above','male smoke percentage']\n",
    "graduate_man_percent\n",
    "graduate_woman_percent = df_data.loc['graduate school and above','female smoke percentage']\n",
    "graduate_woman_percent\n",
    "graduate_total_percent = df_data.loc['graduate school and above','smoke_percentage']\n",
    "graduate_total_percent"
   ]
  },
  {
   "cell_type": "markdown",
   "metadata": {},
   "source": [
    "### Bar Chart "
   ]
  },
  {
   "cell_type": "code",
   "execution_count": 15,
   "metadata": {},
   "outputs": [
    {
     "name": "stdout",
     "output_type": "stream",
     "text": [
      "ind= [0 1 2 3]\n"
     ]
    },
    {
     "data": {
      "image/png": "[encoded data removed]",
      "text/plain": [
       "<Figure size 432x432 with 1 Axes>"
      ]
     },
     "metadata": {
      "needs_background": "light"
     },
     "output_type": "display_data"
    }
   ],
   "source": [
    "fig, ax = plt.subplots()\n",
    "\n",
    "fig.set_figheight(6)\n",
    "fig.set_figwidth(6)\n",
    "\n",
    "width = 0.35\n",
    "\n",
    "man_data = (element_man_percent, junior_high_man_percent, senior_high_man_percent, university_man_percent  ) \n",
    "man_data = tuple(map(lambda x: isinstance(x, float) and round(x, 1) or x, man_data))\n",
    "\n",
    "woman_data = (element_woman_percent, junior_high_woman_percent,senior_high_woman_percent, university_woman_percent) \n",
    "woman_data = tuple(map(lambda x: isinstance(x, float) and round(x, 1) or x, woman_data))\n",
    "\n",
    "total_data = (element_total_percent, junior_high_total_percent, senior_high_total_percent,university_total_percent) \n",
    "total_data = tuple(map(lambda x: isinstance(x, float) and round(x, 1) or x, total_data))\n",
    "\n",
    "ind = np.arange(len(man_data))\n",
    "\n",
    "print (\"ind=\", ind)\n",
    "\n",
    "\n",
    "\n",
    "\n",
    "rects_man = ax.bar(ind - width/4, man_data, width=0.2,\n",
    "                color='SkyBlue', label='Man')\n",
    "rects_woman = ax.bar(ind + width/4, woman_data,width=0.2,\n",
    "                color='Red', label='Women')\n",
    "rects_total = ax.bar(ind + 3*width/4, total_data,width=0.2,\n",
    "                color='Green', label='Total')\n",
    "\n",
    "\n",
    "\n",
    "\n",
    "ax.set_ylabel('smoke_percentage')\n",
    "ax.set_title('smoke_percentage vs education level')\n",
    "ax.set_xticks(ind)\n",
    "ax.set_xticklabels(('elementary/below', 'junior high', 'senior high', 'university', 'graduate school/above'))\n",
    "ax.legend()\n",
    "\n",
    "\n",
    "\n",
    "\n",
    "def autolabel(rects, xpos='center'):\n",
    "    \"\"\"\n",
    "    Attach a text label above each bar in *rects*, displaying its height.\n",
    "\n",
    "    *xpos* indicates which side to place the text w.r.t. the center of\n",
    "    the bar. It can be one of the following {'center', 'right', 'left'}.\n",
    "    \"\"\"\n",
    "\n",
    "    xpos = xpos.lower()  # normalize the case of the parameter\n",
    "    ha = {'center': 'center', 'right': 'left', 'left': 'right'}\n",
    "    offset = {'center': 0.5, 'right': 0.57, 'left': 0.43}  # x_txt = x + w*off\n",
    "\n",
    "    for rect in rects:\n",
    "        height = rect.get_height()\n",
    "        ax.text(rect.get_x() + rect.get_width()*offset[xpos], 1.01*height,\n",
    "                '{}'.format(height), ha=ha[xpos], va='bottom')\n",
    "\n",
    "\n",
    "autolabel(rects_man, \"center\")\n",
    "autolabel(rects_woman, \"center\")\n",
    "autolabel(rects_total, \"center\")\n",
    "\n",
    "\n",
    "plt.show()"
   ]
  },
  {
   "cell_type": "markdown",
   "metadata": {},
   "source": [
    "# Pie Chart"
   ]
  },
  {
   "cell_type": "code",
   "execution_count": 17,
   "metadata": {},
   "outputs": [
    {
     "data": {
      "image/png": "[encoded data removed]",
      "text/plain": [
       "<Figure size 432x288 with 1 Axes>"
      ]
     },
     "metadata": {},
     "output_type": "display_data"
    }
   ],
   "source": [
    "import numpy as np\n",
    "import matplotlib.pyplot as plt\n",
    "import pandas as pd\n",
    "\n",
    "# Pie chart, where the slices will be ordered and plotted counter-clockwise:\n",
    "labels = 'elementary_below', 'junior_high', 'senior_high', 'university', 'graduate_school_above'\n",
    "sizes = [element_total_percent, junior_high_total_percent, senior_high_total_percent, university_total_percent,graduate_total_percent]\n",
    "explode = (0, 0.1, 0, 0,0)  # only \"explode\" the 2nd slice (i.e. 'Hogs')\n",
    "\n",
    "fig1, ax1 = plt.subplots()\n",
    "ax1.pie(sizes, explode=explode, labels=labels, autopct='%1.1f%%',\n",
    "        shadow=True, startangle=90)\n",
    "ax1.axis('equal')  # Equal aspect ratio ensures that pie is drawn as a circle.\n",
    "\n",
    "plt.show()"
   ]
  },
  {
   "cell_type": "code",
   "execution_count": null,
   "metadata": {},
   "outputs": [],
   "source": []
  }
 ],
 "metadata": {
  "kernelspec": {
   "display_name": "Python 3",
   "language": "python",
   "name": "python3"
  },
  "language_info": {
   "codemirror_mode": {
    "name": "ipython",
    "version": 3
   },
   "file_extension": ".py",
   "mimetype": "text/x-python",
   "name": "python",
   "nbconvert_exporter": "python",
   "pygments_lexer": "ipython3",
   "version": "3.7.3"
  }
 },
 "nbformat": 4,
 "nbformat_minor": 2
}
