{
 "cells": [
  {
   "cell_type": "code",
   "execution_count": null,
   "metadata": {
    "collapsed": true
   },
   "outputs": [],
   "source": [
    "import numpy as np\n"
   ]
  },
  {
   "cell_type": "markdown",
   "metadata": {},
   "source": [
    "## Numpy ndarray "
   ]
  },
  {
   "cell_type": "code",
   "execution_count": null,
   "metadata": {},
   "outputs": [],
   "source": [
    "\n",
    "\n",
    "A=np.array([1.0,2.0,3.2])\n",
    "print(A)\n",
    "print(A.shape)\n",
    "print(A.ndim)\n",
    "print(A.dtype)     # element data type\n",
    "print(A.itemsize)  # size of an elmemnt \n",
    "\n",
    "print('-----------------')\n",
    "C=[[1,2,3],[4,5,6]]\n",
    "B=np.array(C)\n",
    "print(B)\n",
    "\n",
    "print(B[0])\n",
    "print(B[1])\n",
    "print(B.shape)\n",
    "print(B.shape[0])\n",
    "print(B.shape[1])\n",
    "print(B.ndim)\n",
    "print(B.dtype)\n",
    "print(A.itemsize)  # size of an elmemnt \n",
    "\n",
    "print('-----------------')\n",
    "#element wise add\n",
    "print(A+10)\n",
    "print(A+B)\n",
    "print(B+A)\n",
    "#element wise *\n",
    "print(A*B)\n",
    "        "
   ]
  },
  {
   "cell_type": "code",
   "execution_count": null,
   "metadata": {},
   "outputs": [],
   "source": [
    "A=np.array([1.0,2.0,3.2])\n",
    "print(A)\n",
    "print(A.shape)\n",
    "\n",
    "\n",
    "B=A.reshape(3,1)\n",
    "print(B)\n",
    "print(B.shape)"
   ]
  },
  {
   "cell_type": "code",
   "execution_count": null,
   "metadata": {},
   "outputs": [],
   "source": [
    "x=A*B\n",
    " \n",
    "#for row in d:\n",
    "#    print(row)\n",
    "#print('-----------------')\n",
    "#x=d.flatten()    #[  1.    4.    9.6   4.   10.   19.2]\n",
    "print(x)\n",
    "\n",
    "#y=x[np.array([0,2,4])]  #[  1.    9.6  10. ]\n",
    "#print(y)\n",
    "#print('-----------------')\n",
    "y=x>5              #[  1.    9.6  10. ]\n",
    "print(y)           #[False False  True False  True  True]\n",
    "print('-----------------')\n",
    "y=y.astype(np.int) # 轉成0,1 ==> [0 0 1 0 1 1]\n",
    "print(y)\n",
    "print('-----------------')\n",
    "\n",
    "y=x[x>5]         #[  9.6  10.   19.2]\n",
    "print(y)  "
   ]
  },
  {
   "cell_type": "code",
   "execution_count": null,
   "metadata": {},
   "outputs": [],
   "source": [
    "#ndarray from list\n",
    "\n",
    "mylist=[]\n",
    "mylist.append([1,2,3,4])\n",
    "mylist.append([5,6,7,8])\n",
    "print(mylist)\n",
    "print(type(mylist))\n",
    "M=np.array(mylist)\n",
    "print(M)\n",
    "print(type(M))\n",
    "print('-'*40)\n",
    "\n",
    "#M[X,Y] or M{x1:x2,y1:y2]\n",
    "print(M[0])\n",
    "print(M[1,1])\n",
    "print(M[:,[1,2]])\n",
    "print(M[:,1])   #[2,6]\n",
    "print(M[:,1].shape)   \n",
    "print(M[:,1].reshape(2,1).shape)  #[[2],\n",
    "                                  # [6]]"
   ]
  },
  {
   "cell_type": "code",
   "execution_count": null,
   "metadata": {},
   "outputs": [],
   "source": [
    "import numpy as np\n",
    "a = np.arange(35).reshape(5,7)\n",
    "print(a)\n",
    "print(a[2,4])\n",
    "print(a[0:3,0:4]) # [start:end:step] 用來連續抓取一塊矩陣範圍, 可以使用step參數 (step=1,2,3...) , 預設step=1 (step=1可以不寫)\n",
    "print(a[:,1])     #start 不寫表示從0開始, end不寫表示算到最後  [ 1  8 15 22 29]\n",
    "print(a[:,[1,3,4]])  #取出所有列中的某些特定欄, 第1欄, 第3欄,第4欄\n",
    "print(a[0:3,:])  #取出某些列中的全部欄位 從第0列~第3列\n",
    "print('----------------')\n",
    "print(a[:,1].reshape(len(a[:,1]),1))\n",
    "f1,f2=1,2\n",
    "y1=a[:,f1]\n",
    "y2=a[:,f2]\n",
    "y=y1*y2\n",
    "print(y)  #y=field1 x field2值\n",
    "\n",
    "print(np.max(y))\n",
    "print(np.min(y))\n",
    "print(np.sum(y))\n",
    "\n",
    "#print(a[1:5:2,::3])   #row : 1,3 ; column: no start, so start(0):no end:step 3==> 0,3,6,....\n",
    "\n",
    "#y=a[0:3,0:4]\n",
    "#print(y.T)\n",
    "\n",
    "\n"
   ]
  },
  {
   "cell_type": "code",
   "execution_count": null,
   "metadata": {},
   "outputs": [],
   "source": [
    "#np.abs\n",
    "#np.mean\n",
    "#np.power\n",
    "#np.sqrt\n",
    "\n",
    "a = np.array([[1, 2], [-3, -4]])\n",
    "a=np.abs(a)\n",
    "print(a)\n",
    "print(np.mean(a))  #2.5\n",
    "print(np.mean(a, axis=0))   #[2. 3.]\n",
    "print(np.mean(a, axis=1))   #[1.5 3.5]\n",
    "\n",
    "\n",
    "\n",
    "x1 = range(6)\n",
    "print(np.power(x1, 2))\n",
    "x2 = [1.0, 2.0, 3.0, 3.0, 2.0, 1.0]\n",
    "#np.power(x1, x2)\n",
    "#The effect of broadcasting.\n",
    "#x2 = np.array([[1, 2, 3, 3, 2, 1], [1, 2, 3, 3, 2, 1]])\n",
    "#np.power(x1, x2)\n",
    "np.sqrt(x2)"
   ]
  },
  {
   "cell_type": "code",
   "execution_count": null,
   "metadata": {},
   "outputs": [],
   "source": [
    "#unique\n",
    "\n",
    "print(y)\n",
    "y=np.unique(y)\n",
    "print(y)"
   ]
  },
  {
   "cell_type": "code",
   "execution_count": null,
   "metadata": {},
   "outputs": [],
   "source": [
    "import numpy as np\n",
    "A=np.array([[1,2,3],[4,5,6]])  #shpae(2,3)\n",
    "B=np.array([1,0,1]).reshape(3,1)    #shape(3,1)\n",
    "\n",
    "C=np.dot(A,B)  #OK\n",
    "print(C)\n",
    "#C=np.dot(B,A)  # NG! nog aligned\n"
   ]
  },
  {
   "cell_type": "code",
   "execution_count": null,
   "metadata": {
    "collapsed": true
   },
   "outputs": [],
   "source": [
    "#多維陣列的表示\n",
    "m = np.array([[[1,2],2,3,4,10],50])\n",
    "print(m.shape)\n",
    "print(m[0])\n",
    "print(m[1])\n",
    "print(m[0][0])\n",
    "print(m[0][1])\n",
    "print(m[0][0][0])\n",
    "print(m[0][0][1])\n",
    "\n"
   ]
  },
  {
   "cell_type": "markdown",
   "metadata": {},
   "source": [
    "## Create a new ndarray"
   ]
  },
  {
   "cell_type": "code",
   "execution_count": null,
   "metadata": {},
   "outputs": [],
   "source": [
    "x = np.arange(-5,5,1)\n",
    "print(x)\n",
    "\n",
    "x=np.random.rand(2,3)  #random value : [0,1) , 0~0.9999999\n",
    "print(x)"
   ]
  },
  {
   "cell_type": "code",
   "execution_count": null,
   "metadata": {
    "collapsed": true
   },
   "outputs": [],
   "source": [
    "#np.ones\n",
    "np.ones(5) #array([ 1.,  1.,  1.,  1.,  1.])\n",
    "np.ones((5,), dtype=np.int)   #array([1, 1, 1, 1, 1])\n",
    "\n",
    "np.ones((2, 1))\n",
    "s = (2,2)\n",
    "m=np.ones(s)  #array([[ 1.,  1.],\n",
    "            #       [ 1.,  1.]])\n",
    "\n",
    "print(m)"
   ]
  },
  {
   "cell_type": "code",
   "execution_count": null,
   "metadata": {
    "collapsed": true
   },
   "outputs": [],
   "source": [
    "#np.zeros & global\n",
    "import numpy as np\n",
    "w1=[]\n",
    "w=np.zeros(5)\n",
    "x=[1,2,3]\n",
    "def func(x):\n",
    "    global w\n",
    "    w = np.zeros(len(x))\n",
    "    w1 = np.zeros(len(x))\n",
    "\n",
    "    \n",
    "print(w) \n",
    "func(x)\n",
    "print(w)  \n",
    "print(w1)"
   ]
  },
  {
   "cell_type": "code",
   "execution_count": null,
   "metadata": {},
   "outputs": [],
   "source": [
    "#傳回一個矩陣, 元素內容由常態分配所獲得\n",
    "\n",
    "#numpy.random.rand()返回一个n维的[0,1)之间均匀分布的随机数组。\n",
    "#numpy.random.randn()返回一个n维的均值为0方差为1的标准正太分布数组。\n",
    "#numpy.random.randn()返回: Normal distribution of mean 0 and variance 1 \n",
    "#公式\n",
    "#For random samples from N(mu, sigma^2), use:\n",
    "#sigma * np.random.randn(...) + mu\n",
    "\n",
    "\n",
    "import numpy as np\n",
    "###矩阵[2,4] ,  N~(mu, variation)  ,\n",
    "#e.g., N~(3,2.5) Two-by-four array of samples from N(3, 6.25):\n",
    "2.5 * np.random.randn(2, 4) + 3 \n",
    " \n",
    "\n"
   ]
  },
  {
   "cell_type": "code",
   "execution_count": null,
   "metadata": {},
   "outputs": [],
   "source": [
    "import numpy as np\n",
    "#x,y 表示座標索引 (at coordinate )\n",
    "A=np.fromfunction(lambda x,y:x**2+y**2, (5,5))\n",
    "print(A)\n",
    "\n",
    "\n",
    "def func(i):\n",
    "    print ('call!')\n",
    "    return i*2\n",
    "\n",
    "B=np.fromfunction(func, (4,))   #0,1,2,3\n",
    "\n",
    "print(B)\n",
    "\n",
    "def func2(i,j):\n",
    "    print ('call 2d')\n",
    "    return i*j\n",
    "\n",
    "C=np.fromfunction(func2, (4,4))    \n",
    "print(C)"
   ]
  },
  {
   "cell_type": "code",
   "execution_count": null,
   "metadata": {},
   "outputs": [],
   "source": [
    "import numpy as np\n",
    "#for linear space\n",
    "x=np.linspace(0,10,11)\n",
    "print(x)\n",
    "x=np.linspace(0,10,11, dtype=int)\n",
    "print(x)\n",
    "\n",
    "x=np.linspace(0,8,3, dtype=int)\n",
    "print(x)\n",
    "print('-----------------')\n",
    "#for linear space but with log-scacle\n",
    "x=np.logspace(1,3,3)  #numpy.logspace(start, end, num, base = 10)   ==> 1,2,3 ==>base=10 log10,log100,log1000\n",
    "print(x)\n",
    "x=np.logspace(0,8,3, base=2,dtype = int) # ==> 0,4,8 ==> base=2, log1,log16,log256\n",
    "print(x)"
   ]
  },
  {
   "cell_type": "code",
   "execution_count": null,
   "metadata": {
    "collapsed": true
   },
   "outputs": [],
   "source": [
    "#np.choice:Construct an array from an index array and a set of arrays to choose from.\n",
    "choices = [[0, 1, 2, 3], [10, 11, 12, 13],[20, 21, 22, 23], [30, 31, 32, 33]]\n",
    "print(np.choose([2, 3, 1, 0],choices))  #array([20, 31, 12,  3])\n",
    "y=np.array([3,2,2,1,1,0])\n",
    "#y = np.choose(y, [1, 2, 0,3]).astype(np.float)\n"
   ]
  },
  {
   "cell_type": "code",
   "execution_count": null,
   "metadata": {
    "collapsed": true
   },
   "outputs": [],
   "source": [
    "\n",
    "\n",
    "import numpy as np\n",
    "persontype = np.dtype({\n",
    "    'names':['name', 'age', 'weight'],\n",
    "    'formats':['S32','i', 'f']})\n",
    "a = np.array([(\"Zhang\",32,75.5),(\"Wang\",24,65.2)],dtype=persontype)\n",
    "#a = np.array([[\"Zhang\",32,75.5],[\"Wang\",24,65.2]],dtype=persontype)\n",
    "print(a)\n"
   ]
  },
  {
   "cell_type": "markdown",
   "metadata": {},
   "source": [
    "## ndarray 矩陣運算與處理"
   ]
  },
  {
   "cell_type": "code",
   "execution_count": null,
   "metadata": {},
   "outputs": [],
   "source": [
    "#element-wise average from two list using numpy\n",
    "import numpy as np\n",
    "set1 = [[0, 1], [4, 5]]\n",
    "set2 = [[2, 7], [0, 1]]\n",
    "avg=(np.array(set1) + np.array(set2)) / 2\n",
    "print(avg)\n",
    "\n",
    "\n",
    "#np.sum\n",
    "print(np.sum(np.array(set1)**2))  \n",
    "\n"
   ]
  },
  {
   "cell_type": "code",
   "execution_count": null,
   "metadata": {},
   "outputs": [],
   "source": [
    "\n",
    "x=[np.array([1,2,3]),np.array([4,5,6])]\n",
    "\n",
    "\n",
    "def avg_set(x):\n",
    "    n_item=len(x)\n",
    "    w=0\n",
    "    for i in range(n_item):\n",
    "        w+=x[i]\n",
    "    avg=w/n_item\n",
    "    return avg\n",
    "\n",
    "print(x)\n",
    "print(type(x[0]))\n",
    "avg=avg_set(x)\n",
    "print(avg)\n"
   ]
  },
  {
   "cell_type": "code",
   "execution_count": null,
   "metadata": {},
   "outputs": [],
   "source": [
    "#raval : 轉成1D陣列\n",
    "x = np.array([[1, 2, 3], [4, 5, 6]])\n",
    "print(x)\n",
    "print(np.ravel(x))"
   ]
  },
  {
   "cell_type": "code",
   "execution_count": null,
   "metadata": {},
   "outputs": [],
   "source": [
    "#np.argmin/np.argmax是numpy的成員函数,用來取出matix中最小/最大的index位置\n",
    "import numpy as np\n",
    "def getPositon():  \n",
    "    a = np.mat([[2, -25, 7, 8, 9, 89], [6, 107, 5, 4, 6, 4]])  \n",
    "\n",
    "    raw, column = a.shape# get the matrix of a raw and column  \n",
    "      \n",
    "    _positon = np.argmax(a)# get the index of max in the a  \n",
    "    print(_positon)\n",
    "    m, n = divmod(_positon, column)  # divmod(a,b) is the same as (a // b, a % b)   ; a//b : 整數除法(同C的int險法)\n",
    "    print(\"The max is  a[\",m,\"][\",n,\"]\", a[m , n] )\n",
    "    _positon = np.argmin(a)# get the index of max in the a  \n",
    "    print(_positon)\n",
    "    m, n = divmod(_positon, column)\n",
    "    print(\"The min is  a[\",m,\"][\",n,\"]\", a[m , n] )\n",
    "    \n",
    "getPositon() "
   ]
  },
  {
   "cell_type": "code",
   "execution_count": null,
   "metadata": {},
   "outputs": [],
   "source": [
    "# Matrix transpose\n",
    "x = np.arange(4).reshape((2,2))\n",
    "print(x)\n",
    "x=np.transpose(x)    # same as x=x.T\n",
    "print(x)"
   ]
  },
  {
   "cell_type": "code",
   "execution_count": null,
   "metadata": {},
   "outputs": [],
   "source": [
    "#矩陣重直合併: concatenate\n",
    "a = np.array([[1, 2], [3, 4]])\n",
    "b = np.array([[5, 6]])\n",
    "c=np.concatenate((a, b), axis=0)  #垂直合併, row 增加\n",
    "print(c)\n",
    "d=np.concatenate((b,b), axis=1) #水平合併, column 增加\n",
    "print(d)\n",
    "d=np.concatenate((b.T,a), axis=1) #水平合併, column 增加\n",
    "print(c)\n",
    "print(d)\n",
    "\n",
    "e=np.concatenate((b,b), axis=1) #水平合併, column 增加\n",
    "print(e)\n"
   ]
  },
  {
   "cell_type": "code",
   "execution_count": null,
   "metadata": {},
   "outputs": [],
   "source": [
    "#concatenate\n",
    "\n",
    "x=np.array([[1,2,3,4],[5,7,8,9]]).reshape(2,4)\n",
    "print(x)\n",
    "y=np.ones((x.shape[0],1))  \n",
    "\n",
    "print(y)\n",
    "#x = np.concatenate((np.ones((x.shape[0],1)),x), axis=1)\n",
    "z=np.concatenate((y,x), axis=1)\n",
    "print(z)\n",
    "\n",
    "print(len(z))"
   ]
  },
  {
   "cell_type": "code",
   "execution_count": null,
   "metadata": {},
   "outputs": [],
   "source": [
    "#concatenate\n",
    "#note: (n,)vector is one dimension, (1,n) is two dimension\n",
    "# only two dimension can have axis=0 \n",
    "import numpy as np\n",
    "t1 = np.arange(1,10)\n",
    "t2 = np.arange(11,20)\n",
    "print(t1)\n",
    "print(t2)\n",
    "print(t1.shape[0])\n",
    "print(t1.ndim)\n",
    "print(t2.shape)\n",
    "t3 = np.concatenate((t1,t2),axis=0)  #note: axis 1 is out of bounds for array of dimension 1\n",
    "print(t3)\n",
    "\n"
   ]
  },
  {
   "cell_type": "code",
   "execution_count": null,
   "metadata": {},
   "outputs": [],
   "source": [
    "#矩陣重直合併: vstack\n",
    "#numpy.random.rand()返回一个n维的[0,1)之间均匀分布的随机数组。\n",
    "\n",
    "import numpy as np\n",
    "###矩阵a\n",
    "a=np.floor(10*np.random.rand(5,3)) \n",
    "b=np.floor(10*np.random.rand(2,3))  \n",
    "\n",
    "print(a)\n",
    "print(b)\n",
    "\n",
    "####vstack(): row合併 ,但行column數要相同\n",
    "d=np.vstack([a,b])\n",
    "print(d)"
   ]
  },
  {
   "cell_type": "code",
   "execution_count": null,
   "metadata": {},
   "outputs": [],
   "source": [
    "#np.radom.shuffle\n",
    "x=[\"Python\",\"data Science\",\"SVM\",\"Learning\",\"Machine\"]\n",
    "np.random.shuffle(x)\n",
    "print(x)"
   ]
  },
  {
   "cell_type": "markdown",
   "metadata": {},
   "source": [
    "## train_test_split"
   ]
  },
  {
   "cell_type": "code",
   "execution_count": null,
   "metadata": {},
   "outputs": [],
   "source": [
    "#Split arrays or matrices into random train and test subsets\n",
    "import numpy as np\n",
    "from sklearn.model_selection import train_test_split\n",
    "\n",
    "X, y = np.arange(15).reshape((5, 3)), range(5)\n",
    "print(X)\n",
    "\n",
    "X_train, X_test, y_train, y_test = train_test_split(X, y, test_size=0.2,shuffle=True)\n",
    "print(X_train)\n",
    "print(X_test)\n",
    "print(y_train)\n",
    "print(y_test)"
   ]
  },
  {
   "cell_type": "markdown",
   "metadata": {},
   "source": [
    "## boolen vector "
   ]
  },
  {
   "cell_type": "code",
   "execution_count": null,
   "metadata": {},
   "outputs": [],
   "source": [
    "#boolean matrix\n",
    "x = np.array([4, 3, 2, 1])\n",
    "y = 2 >= x\n",
    "print(y)\n"
   ]
  },
  {
   "cell_type": "code",
   "execution_count": null,
   "metadata": {},
   "outputs": [],
   "source": [
    "# boolen vector to integer\n",
    "x=np.array([0, 0,  1,  1], dtype=bool)\n",
    "print(x)\n",
    "\n",
    "y=x*1\n",
    "print(y)\n",
    "\n"
   ]
  },
  {
   "cell_type": "code",
   "execution_count": null,
   "metadata": {},
   "outputs": [],
   "source": [
    "# Compute the truth value of x1 * x2 element-wise. \n",
    "#*=OR,AND,NOT\n",
    "\n",
    "print(np.logical_or(True, False))\n",
    "print(np.logical_or([True, False], [False, False]))\n",
    "\n",
    "print(np.logical_and(True, False))\n",
    "\n",
    "\n",
    "print(np.logical_not(3))\n",
    "print(np.logical_not([True, False, 0, 1]))\n",
    "\n",
    "\n",
    "x = np.arange(5)\n",
    "np.logical_or(x < 1, x > 3)\n"
   ]
  },
  {
   "cell_type": "code",
   "execution_count": null,
   "metadata": {},
   "outputs": [],
   "source": [
    "# np array 只挑選特定欄位的方法\n",
    "y=np.array([1,3,3,5,9,8,0,3,4,4,2,1,6,6,0])\n",
    "#print(y==3)\n",
    "picks=np.ravel(np.logical_or(y==3, y==4)) #展開成 vector\n",
    "print(picks)\n",
    "y_train = np.array(y[picks],dtype=int)  #[3 3 3 4 4]\n",
    "print(y_train)\n",
    "y_train = np.array(y[picks]==3,dtype=int)  #[1 1 1 0 0]\n",
    "print(y_train)"
   ]
  },
  {
   "cell_type": "markdown",
   "metadata": {},
   "source": [
    "## 矩陣相乘\n",
    "(a, b) * (c,d) = (a,d) ==>dim b,c 要相同 <br>\n",
    "(a, b) * (c,) = (a,) ==> dim b,c 要相同 <br>\n",
    "(a, ) * (c,d) = (d,) ==> dim a,c 要相同 <br>"
   ]
  },
  {
   "cell_type": "code",
   "execution_count": null,
   "metadata": {
    "collapsed": true
   },
   "outputs": [],
   "source": [
    "# example 1: np.dot  \n",
    "m = np.array([[2,3,1],[1,2,3]])\n",
    "n = np.array([1,0,1])\n",
    "print(m.shape)\n",
    "print(n.shape)\n",
    "p=np.dot(m,n)    #(2, 3) * (3,) = (2,) \n",
    "print(p.shape)\n",
    "print(p)\n",
    "print('---after reshape----')\n",
    "n= n.reshape(len(n),1)    #(2, 3) * (3,1) = (2,1)\n",
    "print(n.shape)\n",
    "p=np.dot(m,n)  \n",
    "print(p)\n"
   ]
  },
  {
   "cell_type": "code",
   "execution_count": null,
   "metadata": {},
   "outputs": [],
   "source": [
    "# example 2: np.dot  \n",
    "m = np.array([2,3,1])\n",
    "n = np.array([[2,3],[1,2],[0,2]])  #(3,2)\n",
    "print(m.shape)\n",
    "print(n.shape)\n",
    "p=np.dot(m,n)    #(3,) * (3,2) = (2,) \n",
    "print(p.shape)\n",
    "print(p)\n",
    "\n"
   ]
  },
  {
   "cell_type": "code",
   "execution_count": null,
   "metadata": {
    "collapsed": true
   },
   "outputs": [],
   "source": [
    "m = np.array([[1,2,3,4,10],[2,3,4,5,65],[2,1,245,112,-1]])\n",
    "\n",
    "#使用numpy中的numpy.argmax\n",
    "print(np.argmax(m))\n",
    "# 矩陣每一行最大的元素的索引\n",
    "row_max =np.argmax(m, axis=0)\n",
    "print(row_max)\n",
    "# 矩陣每一列最大的元素的索引\n",
    "col_max = np.argmax(m, axis=1)\n",
    "print(col_max)\n",
    "# 矩陣每一列最大的元素的值\n",
    "print(m[[0,1,2],col_max])\n",
    "\n",
    "\n"
   ]
  },
  {
   "cell_type": "code",
   "execution_count": null,
   "metadata": {
    "collapsed": true
   },
   "outputs": [],
   "source": [
    "def softmax(x):\n",
    "    if x.ndim == 2:\n",
    "        x = x.T\n",
    "        x = x - np.max(x, axis=0)\n",
    "        y = np.exp(x) / np.sum(np.exp(x), axis=0)\n",
    "        return y.T \n",
    "\n",
    "    #x= x - np.max(x) \n",
    "    print(x)\n",
    "    return np.exp(x) / np.sum(np.exp(x))\n",
    "\n",
    "a=np.array([1,2,4,9])\n",
    "a=softmax(a)\n",
    "print(sum(a))"
   ]
  },
  {
   "cell_type": "code",
   "execution_count": null,
   "metadata": {
    "collapsed": true
   },
   "outputs": [],
   "source": [
    "# Example: 2-D array \n",
    "y=np.array([[1,2,4,1,1],[1,2,4,1,1],[1,2,4,8,2]])\n",
    "t=np.array([3,2,4])\n",
    "print(y.shape)\n",
    "\n",
    "a=y[np.arange(len(y)),t]\n",
    "print(a)"
   ]
  },
  {
   "cell_type": "code",
   "execution_count": null,
   "metadata": {
    "collapsed": true
   },
   "outputs": [],
   "source": [
    "#Example: 將陣列元素全部轉成 float\n",
    "# pass a ndarray to a function, it will change original array within function\n",
    "# ndarray 建立是原本是什麼型態, 元素的型態就固定了, 元素轉型會被原本當初的型能所限制,不會再改變\n",
    "import numpy as np\n",
    "\n",
    "def Matrix_to_float(M):\n",
    "    n_row=M.shape[0]\n",
    "    n_cols=M.shape[1]\n",
    "    N=np.arange(n_row*n_cols,dtype=float).reshape(n_row,n_cols)  #create new array with float type\n",
    "    i,j=0,0\n",
    "    for i in range(n_row):\n",
    "        for j in range(n_cols):\n",
    "            N[i,j]=float(M[i,j]) \n",
    "    return N;\n",
    "        \n",
    "C1=np.arange(8).reshape(2,4)\n",
    "\n",
    "print(C1)\n",
    "C2=Matrix_to_float(C1)\n",
    "print(C2)"
   ]
  },
  {
   "cell_type": "markdown",
   "metadata": {},
   "source": [
    "## Broadcast"
   ]
  },
  {
   "cell_type": "code",
   "execution_count": null,
   "metadata": {
    "scrolled": true
   },
   "outputs": [],
   "source": [
    "# example 3 : np braocast\n",
    "m = np.array([2,3,1])\n",
    "n = np.array([[2,3,5],[1,2,5]])  #(2,3)\n",
    "print(m.shape)\n",
    "print(n.shape)\n",
    "add=m+n    #np braocast\n",
    "print(add.shape)\n",
    "print(add)"
   ]
  },
  {
   "cell_type": "markdown",
   "metadata": {},
   "source": [
    "## Misc"
   ]
  },
  {
   "cell_type": "code",
   "execution_count": null,
   "metadata": {},
   "outputs": [],
   "source": [
    "# use np.nditer to trasve a 2D array \n",
    "def iter_func(x):\n",
    "    it = np.nditer(x, flags=['multi_index'], op_flags=['readwrite'])\n",
    "    while not it.finished:\n",
    "        idx = it.multi_index  \n",
    "        print(idx)\n",
    "        print(x[idx])\n",
    "        it.iternext()\n",
    "\n",
    "x=np.array([[2,3],[4,5]])\n",
    "print(x)\n",
    "iter_func(x)\n"
   ]
  },
  {
   "cell_type": "code",
   "execution_count": null,
   "metadata": {},
   "outputs": [],
   "source": [
    "choices = [[0, 1, 2, 3], [10, 11, 12, 13], [20, 21, 22, 23], [30, 31, 32, 33]]\n",
    "np.choose([2, 3, 1, 0], choices)\n",
    "# the first element of the result will be the first element of the\n",
    "# third (2+1) \"array\" in choices, namely, 20; the second element\n",
    "# will be the second element of the fourth (3+1) choice array, i.e.,\n",
    "# 31, etc.\n"
   ]
  },
  {
   "cell_type": "code",
   "execution_count": null,
   "metadata": {},
   "outputs": [],
   "source": [
    "#取出矩陣特定某一列或行 (也可以多個列或行, 使用range : 去描述)\n",
    "x = np.array([[3,4,5],[1,24,4],[2,11,67]])\n",
    "print(x)\n",
    "\n",
    "#[row range, column range]\n",
    "#[:,:]\n",
    "print(x[:,2])  #[5  4  67]\n"
   ]
  },
  {
   "cell_type": "code",
   "execution_count": null,
   "metadata": {
    "collapsed": true
   },
   "outputs": [],
   "source": [
    "#ndarray\n",
    "x = np.array([[[1],[2],[3]], [[4],[5],[6]]])\n",
    "\n",
    "print(x[1:2].shape)\n",
    "print(x[1].shape)\n",
    "print(x[1,2,0]) #6\n",
    "print(x)\n",
    "print('----------')\n",
    "x1=x[:,np.newaxis,1]  #維持和x相同的維度而只挑出特定欄位 (第1欄)\n",
    "print(x1)\n",
    "x1=x[:,np.newaxis,1:3]  #維持和x相同的維度而只挑出特定欄位 (1~2欄)\n",
    "print(x1)\n"
   ]
  },
  {
   "cell_type": "code",
   "execution_count": null,
   "metadata": {},
   "outputs": [],
   "source": [
    "# np.unique: Returns the sorted unique elements of an array. \n",
    "print(np.unique([1, 1, 2, 2, 3, 3]))\n",
    "a = np.array([[1, 1], [2, 3]])  #[1 2 3]\n",
    "print(np.unique(a))  #[1 2 3]\n",
    "\n",
    "\n",
    "a = np.array(['a', 'b', 'b', 'c', 'a'])\n",
    "u, indices = np.unique(a, return_index=True)   \n",
    "print(u)    #['a' 'b' 'c']\n",
    "print(indices)   #[0 1 3]\n",
    "\n",
    "\n",
    "\n",
    "u, indices = np.unique(a, return_inverse=True)\n",
    "print(u)    #['a' 'b' 'c']\n",
    "print(indices)   #return the indices of the unique array [0 1 1 2 0]\n",
    "print(u[indices])  #['a' 'b' 'b' 'c' 'a']\n",
    "\n",
    "\n",
    "\n",
    "u, count = np.unique(a, return_counts=True)\n",
    "print(u)    #['a' 'b' 'c']\n",
    "print(count)   #[2 2 1]"
   ]
  },
  {
   "cell_type": "code",
   "execution_count": null,
   "metadata": {
    "collapsed": true
   },
   "outputs": [],
   "source": [
    "#newaxis is used to increase the dimension of the existing array by one more dimension, when used once. \n",
    "#Simply put, the newaxis is used to increase the dimension of the existing array by one more dimension, when used once. Thus,\n",
    "#1D array will become 2D array\n",
    "#2D array will become 3D array\n",
    "#3D array will become 4D array and so on..\n",
    "\n",
    "x1 = np.array([10, 20, 30], float)\n",
    "print(x1.shape)  #vector \n",
    "print(x1)\n",
    " \n",
    "x2 = x1[:, np.newaxis]  # matrix [[10], [20], [30]], (3, 1)\n",
    "print(x2.shape)\n",
    "print(x2)\n",
    "print(x2[1,0])  #20.\n",
    "\n",
    "x3 = x2[:, np.newaxis]  # matrix [[[10]], [[20]], [[30]], (3, 1,1)\n",
    "print(x3.shape)\n",
    "print(x3)\n",
    "print(x3[1,0])  #[ 20.]\n",
    "print(x3[1,0,0])  #20.\n",
    "\n"
   ]
  },
  {
   "cell_type": "code",
   "execution_count": null,
   "metadata": {
    "collapsed": true
   },
   "outputs": [],
   "source": [
    "import numpy as np\n",
    "x = np.arange(10)  #[0,1,2,....9]\n",
    "print(x[2])  #2\n",
    "print(x[-2])  #8\n",
    "print(x.shape)\n",
    "\n",
    "x.shape=(2,5)  #re-shape \n",
    "print(x.shape)  # [[0 1 2 3 4]\n",
    "                # [5 6 7 8 9]]\n",
    "print(x)\n",
    "print(x[0])    #[0 1 2 3 4]\n",
    "print(x[1][3])  #index into array  8\n",
    "print(x[1,3])  # this is more better than above, faster then [x][y]\n",
    "print(x[1,-1])  # index #9\n",
    "print(x[(1,3)])  #8\n",
    "\n",
    "x.shape=(10,) #re-shape one dimension array with 10 elements\n",
    "print(x)        #[0 1 2 3 4 5 6 7 8 9]\n",
    "print(x[2:5])   #[2 3 4]\n",
    "print(x[2:])   #[2 3 4 5 6 7 8 9]\n",
    "print(x[:-3])   #[0 1 2 3 4 5 6]\n",
    "print(x[1:8:2])    #[1 3 5 7]\n",
    "\n",
    "\n"
   ]
  },
  {
   "cell_type": "code",
   "execution_count": null,
   "metadata": {
    "collapsed": true
   },
   "outputs": [],
   "source": [
    "rows = np.array([0, 3], dtype=np.intp)\n",
    "columns = np.array([0, 2], dtype=np.intp)\n",
    "rows[:, np.newaxis]\n",
    "\n",
    "x[rows[:, np.newaxis], 1]\n"
   ]
  },
  {
   "cell_type": "code",
   "execution_count": null,
   "metadata": {
    "collapsed": true
   },
   "outputs": [],
   "source": [
    "# ndarray compare , squeeze usage\n",
    "x = np.array([1,2,3,4]).reshape(4,1)\n",
    "print(x)\n",
    "print(x.shape)  # (4,1)\n",
    "#np.squeeze: 返回一個把長度為1的维度去掉的 ndarray.\n",
    "x=np.squeeze(x)  #[1,2,3,4]\n",
    "print(x.shape)   #(4,)\n",
    "y= np.array([1,2,1,5])\n",
    "print(y)\n",
    "\n",
    "result= (x == y)\n",
    "print(result)   #[ True  True False False]\n",
    "print(sum(result))  #2\n",
    "\n",
    "\n"
   ]
  },
  {
   "cell_type": "code",
   "execution_count": null,
   "metadata": {},
   "outputs": [],
   "source": [
    " from numpy.linalg import inv\n",
    "a = np.array([[1., 2.], [3., 4.]])\n",
    "ainv = inv(a)\n",
    "print(a)\n",
    "print(ainv)\n",
    "\n",
    "\n"
   ]
  },
  {
   "cell_type": "code",
   "execution_count": null,
   "metadata": {},
   "outputs": [],
   "source": [
    "import numpy as np\n",
    "import urllib.request\n",
    "#import matplotlib.pyplot as plot\n",
    "src_file=\"hw1_data.csv\"\n",
    "import sys\n",
    "#urllib.request.urlretrieve(\"https://ceiba.ntu.edu.tw/course/481ea4/hw1_data.csv\",src_file )\n",
    "data= open(src_file,'r')\n",
    "lines=[]\n",
    "\n",
    "for line in data:\n",
    "    #print(line.strip().split(','))\n",
    "    lines.append((line.strip().split(',')))\n",
    "DataSet=np.array(lines)\n",
    "\n",
    "\n",
    "\n",
    "\n",
    "class_type=1\n",
    "# detrmine class position (line number\n",
    "allclass=['Education level','Average monthly income','Working environment']\n",
    "\n",
    "\n",
    "def parse_data(DataSet,allclass,class_type):\n",
    "    i=0\n",
    "    nums_of_type=len(allclass)\n",
    "    start=0\n",
    "    end=0\n",
    "    list=[]\n",
    "    last_flag=0\n",
    "    if nums_of_type==(class_type+1): #last type\n",
    "        last_flag=1\n",
    "\n",
    "    for row in DataSet:\n",
    "        print(i,':',row)\n",
    "        if (last_flag==1):\n",
    "            if row[0]==allclass[class_type]: \n",
    "                start=i+1\n",
    "        else:\n",
    "            if row[0]==allclass[class_type]:\n",
    "                start=i+1\n",
    "            if row[0]==allclass[class_type+1]:\n",
    "                break\n",
    "\n",
    "        i+=1\n",
    "    end=i\n",
    "    return start,end;\n",
    "        \n",
    "\n",
    "def get_column(DataSet,allclass,class_type,field):\n",
    "    s,e=parse_data(DataSet,allclass,class_type)\n",
    "    #print(DataSet[s:e,field])\n",
    "    return DataSet[s:e,field]\n",
    "\n",
    "\n",
    "\n",
    "def Matrix_to_float(M):\n",
    "    n_row=M.shape[0]\n",
    "    n_cols=M.shape[1]\n",
    "    N=np.arange(n_row*n_cols,dtype=float).reshape(n_row,n_cols)  #create new array with float type\n",
    "    i,j=0,0\n",
    "    for i in range(n_row):\n",
    "        for j in range(n_cols):\n",
    "            N[i,j]=float(M[i,j])\n",
    "    return N;\n",
    "\n",
    "def calculate(M):\n",
    "    f1=M[:,0]  #male population\n",
    "    f2=M[:,1]  #male smoke percentage\n",
    "    f3=M[:,2]  #female population\n",
    "    f4=M[:,3]  #female smoke percentage\n",
    "    a=np.around((f1*f2)/100,decimals=1)\n",
    "    b=np.around((f3*f4)/100,decimals=1)\n",
    "    total=np.around(a+b,decimals=1)\n",
    "    percent=np.around((total/(f1+f3)*100),1)\n",
    "    return percent\n",
    "\n",
    "    \n",
    "\n",
    "X=get_column(DataSet,allclass,2,[1,2,3,4])\n",
    "print(X)\n",
    "\n",
    "N1=Matrix_to_float(X)\n",
    "total_per=calculate(N1)\n",
    "print(total_per)\n",
    "\n",
    "\n",
    "\n",
    "\n"
   ]
  },
  {
   "cell_type": "markdown",
   "metadata": {},
   "source": [
    "## meshgrid and mgrid\n",
    "\n",
    "\n",
    "![mesggrid](https://1.bp.blogspot.com/-NMIUKJxexKA/WdYWyQSfBgI/AAAAAAAAFwY/mJY5Blsjk9YvvjswVCtVr3LnMDcyrA2kgCLcBGAs/s640/mesg_grid.png)"
   ]
  },
  {
   "cell_type": "code",
   "execution_count": null,
   "metadata": {
    "collapsed": true
   },
   "outputs": [],
   "source": [
    "#example meshgrid:Return coordinate matrices from coordinate vectors.\n",
    "x = np.arange(1,5,1)\n",
    "y = np.linspace(5,7,3)\n",
    "print(x)\n",
    "print(y)\n",
    "xv,yv=np.meshgrid(x,y)   #can add sparse=True\n",
    "\n",
    "print(xv)\n",
    "print(yv)\n",
    "\n",
    "print('-'*40)\n",
    "# mgrid:Works like meshgrid(), but not a function. Access via [] operator\n",
    "xv,yv=np.mgrid[1:3,-3:-1]\n",
    "print(xv)\n",
    "print(yv)"
   ]
  },
  {
   "cell_type": "code",
   "execution_count": null,
   "metadata": {
    "collapsed": true
   },
   "outputs": [],
   "source": [
    "#example meshgrid\n",
    "import numpy as np\n",
    "import matplotlib.pyplot as plt\n",
    "\n",
    "#plt.axis([0, 6, 0, 20])\n",
    "\n",
    "xvalues = np.array([1,2,3,4]);\n",
    "yvalues = np.array([5,6,7]);\n",
    "xx, yy = np.meshgrid(xvalues, yvalues)\n",
    "print(xx)\n",
    "print(yy)\n",
    "plt.plot(xx, yy, marker='*', color='b', linestyle='none')\n",
    "plt.show()"
   ]
  }
 ],
 "metadata": {
  "kernelspec": {
   "display_name": "Python 3",
   "language": "python",
   "name": "python3"
  },
  "language_info": {
   "codemirror_mode": {
    "name": "ipython",
    "version": 3
   },
   "file_extension": ".py",
   "mimetype": "text/x-python",
   "name": "python",
   "nbconvert_exporter": "python",
   "pygments_lexer": "ipython3",
   "version": "3.7.3"
  }
 },
 "nbformat": 4,
 "nbformat_minor": 2
}
